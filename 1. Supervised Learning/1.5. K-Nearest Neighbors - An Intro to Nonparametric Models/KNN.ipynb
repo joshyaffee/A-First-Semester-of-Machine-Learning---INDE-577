{
  "nbformat": 4,
  "nbformat_minor": 0,
  "metadata": {
    "colab": {
      "provenance": []
    },
    "kernelspec": {
      "name": "python3",
      "display_name": "Python 3"
    },
    "language_info": {
      "name": "python"
    }
  },
  "cells": [
    {
      "cell_type": "markdown",
      "source": [
        "# K-Nearest Neighbors"
      ],
      "metadata": {
        "id": "q7ziEytfDQWI"
      }
    },
    {
      "cell_type": "markdown",
      "source": [
        "We now move on to perhaps the simplest to understand yet surprisingly effective supervised learning model. Due to its simplicity, it is not very extensible for more complex problems, but when it is appropriate to use, K-Nearest Neighbors proves to be an important model to keep in mind. Let's take a look:"
      ],
      "metadata": {
        "id": "uX7o7pY-DQre"
      }
    },
    {
      "cell_type": "markdown",
      "source": [
        "K-Nearest Neighbors (KNN) is a simple yet effective supervised learning algorithm that can be used for both classification and regression tasks. The basic idea behind KNN is to classify new data points by finding the k nearest neighbors in the training dataset, where k is a user-defined parameter, and then assigning the class label of the new data point based on the most frequent class among the k nearest neighbors. In regression tasks, the algorithm predicts the average value of the target variable for the k nearest neighbors.\n",
        "\n",
        "The training algorithm for KNN is very simple. It involves only storing the training dataset in memory so that the distances between new data points and the existing training data points can be calculated efficiently. When a new data point is encountered, the algorithm calculates the distances between that point and all the other data points in the training dataset, and then selects the k nearest neighbors based on these distances.\n",
        "\n",
        "The distance between two data points can be calculated using various metrics, such as Euclidean distance, Manhattan distance, or Minkowski distance. Euclidean distance is the most commonly used metric, and it is defined as the square root of the sum of the squared differences between the corresponding features of the two data points.\n",
        "\n",
        "One potential modification to the KNN algorithm is to use weighted voting instead of simple majority voting. This means that instead of counting the number of neighbors in each class, the algorithm assigns weights to each neighbor based on their distance to the new data point. The closer neighbors are given higher weights, and their contributions to the final classification decision are weighted accordingly.\n",
        "\n",
        "KNN is suitable for datasets where the decision boundaries are irregular or nonlinear. It can also work well with small datasets where the number of training examples is relatively low. However, KNN may not perform well on datasets with a large number of features or where the number of classes is very large.\n",
        "\n",
        "The advantages of KNN include its simplicity, flexibility, and ability to handle both classification and regression tasks. It can also work well with noisy data and does not make any assumptions about the underlying data distribution. The disadvantages of KNN include its computational complexity, as the algorithm needs to calculate distances between each new data point and all the training data points. This can be time-consuming for large datasets. Another potential drawback of KNN is that it can be sensitive to the choice of distance metric and the value of k."
      ],
      "metadata": {
        "id": "kEIBgmfiGiue"
      }
    },
    {
      "cell_type": "markdown",
      "source": [
        "We will only look at KNN as a classifier. Let's look at how well this model can predict a team's seed based on two of its other features: ADJOE and BARTHAG"
      ],
      "metadata": {
        "id": "2yiz1gutKK97"
      }
    },
    {
      "cell_type": "code",
      "execution_count": null,
      "metadata": {
        "id": "cKZE3OpqDNIm"
      },
      "outputs": [],
      "source": [
        "import pandas as pd\n",
        "import numpy as np\n",
        "import plotly.express as px\n",
        "import sklearn as sk"
      ]
    },
    {
      "cell_type": "code",
      "source": [
        "df = pd.read_csv(\"https://raw.githubusercontent.com/joshyaffee/A-First-Semester-of-Machine-Learning---INDE-577/main/cbb.csv\")\n",
        "df = df.dropna()\n",
        "df.head()"
      ],
      "metadata": {
        "colab": {
          "base_uri": "https://localhost:8080/",
          "height": 231
        },
        "id": "BN2ZsdugK2BI",
        "outputId": "3d96b221-e991-496b-b8da-663ac2b21595"
      },
      "execution_count": null,
      "outputs": [
        {
          "output_type": "execute_result",
          "data": {
            "text/plain": [
              "             TEAM CONF   G   W  ADJOE  ADJDE  BARTHAG  EFG_O  EFG_D   TOR  \\\n",
              "0  North Carolina  ACC  40  33  123.3   94.9   0.9531   52.6   48.1  15.4   \n",
              "1       Wisconsin  B10  40  36  129.1   93.6   0.9758   54.8   47.7  12.4   \n",
              "2        Michigan  B10  40  33  114.4   90.4   0.9375   53.9   47.7  14.0   \n",
              "3      Texas Tech  B12  38  31  115.2   85.2   0.9696   53.5   43.0  17.7   \n",
              "4         Gonzaga  WCC  39  37  117.8   86.3   0.9728   56.6   41.1  16.2   \n",
              "\n",
              "   ...  FTRD  2P_O  2P_D  3P_O  3P_D  ADJ_T   WAB  POSTSEASON  SEED  YEAR  \n",
              "0  ...  30.4  53.9  44.6  32.7  36.2   71.7   8.6         2ND   1.0  2016  \n",
              "1  ...  22.4  54.8  44.7  36.5  37.5   59.3  11.3         2ND   1.0  2015  \n",
              "2  ...  30.0  54.7  46.8  35.2  33.2   65.9   6.9         2ND   3.0  2018  \n",
              "3  ...  36.6  52.8  41.9  36.5  29.7   67.5   7.0         2ND   3.0  2019  \n",
              "4  ...  26.9  56.3  40.0  38.2  29.0   71.5   7.7         2ND   1.0  2017  \n",
              "\n",
              "[5 rows x 24 columns]"
            ],
            "text/html": [
              "\n",
              "  <div id=\"df-5b58d8cc-7fb1-4013-bd16-2b5e458f7396\">\n",
              "    <div class=\"colab-df-container\">\n",
              "      <div>\n",
              "<style scoped>\n",
              "    .dataframe tbody tr th:only-of-type {\n",
              "        vertical-align: middle;\n",
              "    }\n",
              "\n",
              "    .dataframe tbody tr th {\n",
              "        vertical-align: top;\n",
              "    }\n",
              "\n",
              "    .dataframe thead th {\n",
              "        text-align: right;\n",
              "    }\n",
              "</style>\n",
              "<table border=\"1\" class=\"dataframe\">\n",
              "  <thead>\n",
              "    <tr style=\"text-align: right;\">\n",
              "      <th></th>\n",
              "      <th>TEAM</th>\n",
              "      <th>CONF</th>\n",
              "      <th>G</th>\n",
              "      <th>W</th>\n",
              "      <th>ADJOE</th>\n",
              "      <th>ADJDE</th>\n",
              "      <th>BARTHAG</th>\n",
              "      <th>EFG_O</th>\n",
              "      <th>EFG_D</th>\n",
              "      <th>TOR</th>\n",
              "      <th>...</th>\n",
              "      <th>FTRD</th>\n",
              "      <th>2P_O</th>\n",
              "      <th>2P_D</th>\n",
              "      <th>3P_O</th>\n",
              "      <th>3P_D</th>\n",
              "      <th>ADJ_T</th>\n",
              "      <th>WAB</th>\n",
              "      <th>POSTSEASON</th>\n",
              "      <th>SEED</th>\n",
              "      <th>YEAR</th>\n",
              "    </tr>\n",
              "  </thead>\n",
              "  <tbody>\n",
              "    <tr>\n",
              "      <th>0</th>\n",
              "      <td>North Carolina</td>\n",
              "      <td>ACC</td>\n",
              "      <td>40</td>\n",
              "      <td>33</td>\n",
              "      <td>123.3</td>\n",
              "      <td>94.9</td>\n",
              "      <td>0.9531</td>\n",
              "      <td>52.6</td>\n",
              "      <td>48.1</td>\n",
              "      <td>15.4</td>\n",
              "      <td>...</td>\n",
              "      <td>30.4</td>\n",
              "      <td>53.9</td>\n",
              "      <td>44.6</td>\n",
              "      <td>32.7</td>\n",
              "      <td>36.2</td>\n",
              "      <td>71.7</td>\n",
              "      <td>8.6</td>\n",
              "      <td>2ND</td>\n",
              "      <td>1.0</td>\n",
              "      <td>2016</td>\n",
              "    </tr>\n",
              "    <tr>\n",
              "      <th>1</th>\n",
              "      <td>Wisconsin</td>\n",
              "      <td>B10</td>\n",
              "      <td>40</td>\n",
              "      <td>36</td>\n",
              "      <td>129.1</td>\n",
              "      <td>93.6</td>\n",
              "      <td>0.9758</td>\n",
              "      <td>54.8</td>\n",
              "      <td>47.7</td>\n",
              "      <td>12.4</td>\n",
              "      <td>...</td>\n",
              "      <td>22.4</td>\n",
              "      <td>54.8</td>\n",
              "      <td>44.7</td>\n",
              "      <td>36.5</td>\n",
              "      <td>37.5</td>\n",
              "      <td>59.3</td>\n",
              "      <td>11.3</td>\n",
              "      <td>2ND</td>\n",
              "      <td>1.0</td>\n",
              "      <td>2015</td>\n",
              "    </tr>\n",
              "    <tr>\n",
              "      <th>2</th>\n",
              "      <td>Michigan</td>\n",
              "      <td>B10</td>\n",
              "      <td>40</td>\n",
              "      <td>33</td>\n",
              "      <td>114.4</td>\n",
              "      <td>90.4</td>\n",
              "      <td>0.9375</td>\n",
              "      <td>53.9</td>\n",
              "      <td>47.7</td>\n",
              "      <td>14.0</td>\n",
              "      <td>...</td>\n",
              "      <td>30.0</td>\n",
              "      <td>54.7</td>\n",
              "      <td>46.8</td>\n",
              "      <td>35.2</td>\n",
              "      <td>33.2</td>\n",
              "      <td>65.9</td>\n",
              "      <td>6.9</td>\n",
              "      <td>2ND</td>\n",
              "      <td>3.0</td>\n",
              "      <td>2018</td>\n",
              "    </tr>\n",
              "    <tr>\n",
              "      <th>3</th>\n",
              "      <td>Texas Tech</td>\n",
              "      <td>B12</td>\n",
              "      <td>38</td>\n",
              "      <td>31</td>\n",
              "      <td>115.2</td>\n",
              "      <td>85.2</td>\n",
              "      <td>0.9696</td>\n",
              "      <td>53.5</td>\n",
              "      <td>43.0</td>\n",
              "      <td>17.7</td>\n",
              "      <td>...</td>\n",
              "      <td>36.6</td>\n",
              "      <td>52.8</td>\n",
              "      <td>41.9</td>\n",
              "      <td>36.5</td>\n",
              "      <td>29.7</td>\n",
              "      <td>67.5</td>\n",
              "      <td>7.0</td>\n",
              "      <td>2ND</td>\n",
              "      <td>3.0</td>\n",
              "      <td>2019</td>\n",
              "    </tr>\n",
              "    <tr>\n",
              "      <th>4</th>\n",
              "      <td>Gonzaga</td>\n",
              "      <td>WCC</td>\n",
              "      <td>39</td>\n",
              "      <td>37</td>\n",
              "      <td>117.8</td>\n",
              "      <td>86.3</td>\n",
              "      <td>0.9728</td>\n",
              "      <td>56.6</td>\n",
              "      <td>41.1</td>\n",
              "      <td>16.2</td>\n",
              "      <td>...</td>\n",
              "      <td>26.9</td>\n",
              "      <td>56.3</td>\n",
              "      <td>40.0</td>\n",
              "      <td>38.2</td>\n",
              "      <td>29.0</td>\n",
              "      <td>71.5</td>\n",
              "      <td>7.7</td>\n",
              "      <td>2ND</td>\n",
              "      <td>1.0</td>\n",
              "      <td>2017</td>\n",
              "    </tr>\n",
              "  </tbody>\n",
              "</table>\n",
              "<p>5 rows × 24 columns</p>\n",
              "</div>\n",
              "      <button class=\"colab-df-convert\" onclick=\"convertToInteractive('df-5b58d8cc-7fb1-4013-bd16-2b5e458f7396')\"\n",
              "              title=\"Convert this dataframe to an interactive table.\"\n",
              "              style=\"display:none;\">\n",
              "        \n",
              "  <svg xmlns=\"http://www.w3.org/2000/svg\" height=\"24px\"viewBox=\"0 0 24 24\"\n",
              "       width=\"24px\">\n",
              "    <path d=\"M0 0h24v24H0V0z\" fill=\"none\"/>\n",
              "    <path d=\"M18.56 5.44l.94 2.06.94-2.06 2.06-.94-2.06-.94-.94-2.06-.94 2.06-2.06.94zm-11 1L8.5 8.5l.94-2.06 2.06-.94-2.06-.94L8.5 2.5l-.94 2.06-2.06.94zm10 10l.94 2.06.94-2.06 2.06-.94-2.06-.94-.94-2.06-.94 2.06-2.06.94z\"/><path d=\"M17.41 7.96l-1.37-1.37c-.4-.4-.92-.59-1.43-.59-.52 0-1.04.2-1.43.59L10.3 9.45l-7.72 7.72c-.78.78-.78 2.05 0 2.83L4 21.41c.39.39.9.59 1.41.59.51 0 1.02-.2 1.41-.59l7.78-7.78 2.81-2.81c.8-.78.8-2.07 0-2.86zM5.41 20L4 18.59l7.72-7.72 1.47 1.35L5.41 20z\"/>\n",
              "  </svg>\n",
              "      </button>\n",
              "      \n",
              "  <style>\n",
              "    .colab-df-container {\n",
              "      display:flex;\n",
              "      flex-wrap:wrap;\n",
              "      gap: 12px;\n",
              "    }\n",
              "\n",
              "    .colab-df-convert {\n",
              "      background-color: #E8F0FE;\n",
              "      border: none;\n",
              "      border-radius: 50%;\n",
              "      cursor: pointer;\n",
              "      display: none;\n",
              "      fill: #1967D2;\n",
              "      height: 32px;\n",
              "      padding: 0 0 0 0;\n",
              "      width: 32px;\n",
              "    }\n",
              "\n",
              "    .colab-df-convert:hover {\n",
              "      background-color: #E2EBFA;\n",
              "      box-shadow: 0px 1px 2px rgba(60, 64, 67, 0.3), 0px 1px 3px 1px rgba(60, 64, 67, 0.15);\n",
              "      fill: #174EA6;\n",
              "    }\n",
              "\n",
              "    [theme=dark] .colab-df-convert {\n",
              "      background-color: #3B4455;\n",
              "      fill: #D2E3FC;\n",
              "    }\n",
              "\n",
              "    [theme=dark] .colab-df-convert:hover {\n",
              "      background-color: #434B5C;\n",
              "      box-shadow: 0px 1px 3px 1px rgba(0, 0, 0, 0.15);\n",
              "      filter: drop-shadow(0px 1px 2px rgba(0, 0, 0, 0.3));\n",
              "      fill: #FFFFFF;\n",
              "    }\n",
              "  </style>\n",
              "\n",
              "      <script>\n",
              "        const buttonEl =\n",
              "          document.querySelector('#df-5b58d8cc-7fb1-4013-bd16-2b5e458f7396 button.colab-df-convert');\n",
              "        buttonEl.style.display =\n",
              "          google.colab.kernel.accessAllowed ? 'block' : 'none';\n",
              "\n",
              "        async function convertToInteractive(key) {\n",
              "          const element = document.querySelector('#df-5b58d8cc-7fb1-4013-bd16-2b5e458f7396');\n",
              "          const dataTable =\n",
              "            await google.colab.kernel.invokeFunction('convertToInteractive',\n",
              "                                                     [key], {});\n",
              "          if (!dataTable) return;\n",
              "\n",
              "          const docLinkHtml = 'Like what you see? Visit the ' +\n",
              "            '<a target=\"_blank\" href=https://colab.research.google.com/notebooks/data_table.ipynb>data table notebook</a>'\n",
              "            + ' to learn more about interactive tables.';\n",
              "          element.innerHTML = '';\n",
              "          dataTable['output_type'] = 'display_data';\n",
              "          await google.colab.output.renderOutput(dataTable, element);\n",
              "          const docLink = document.createElement('div');\n",
              "          docLink.innerHTML = docLinkHtml;\n",
              "          element.appendChild(docLink);\n",
              "        }\n",
              "      </script>\n",
              "    </div>\n",
              "  </div>\n",
              "  "
            ]
          },
          "metadata": {},
          "execution_count": 2
        },
        {
          "output_type": "stream",
          "name": "stdout",
          "text": [
            "Warning: Total number of columns (24) exceeds max_columns (20) limiting to first (20) columns.\n"
          ]
        }
      ]
    },
    {
      "cell_type": "code",
      "source": [
        "from sklearn.model_selection import train_test_split\n",
        "X = df.loc[:, ['ADJOE', 'BARTHAG']]\n",
        "y = df.loc[:,['SEED']]\n",
        "Xtrain, Xtest, ytrain, ytest = train_test_split(X, y, stratify = y)"
      ],
      "metadata": {
        "id": "BYsBwl3ZLQ_k"
      },
      "execution_count": null,
      "outputs": []
    },
    {
      "cell_type": "code",
      "source": [
        "from sklearn.neighbors import KNeighborsClassifier\n",
        "knn = KNeighborsClassifier(n_neighbors=5)\n",
        "knn.fit(Xtrain, ytrain)\n",
        "y_pred = knn.predict(Xtest)"
      ],
      "metadata": {
        "colab": {
          "base_uri": "https://localhost:8080/"
        },
        "id": "_-18j90NLKmS",
        "outputId": "a5619242-325f-4df5-f270-9602d4229df9"
      },
      "execution_count": null,
      "outputs": [
        {
          "output_type": "stream",
          "name": "stderr",
          "text": [
            "/usr/local/lib/python3.9/dist-packages/sklearn/neighbors/_classification.py:215: DataConversionWarning: A column-vector y was passed when a 1d array was expected. Please change the shape of y to (n_samples,), for example using ravel().\n",
            "  return self._fit(X, y)\n"
          ]
        }
      ]
    },
    {
      "cell_type": "markdown",
      "source": [],
      "metadata": {
        "id": "n_YLp6ABNz9u"
      }
    },
    {
      "cell_type": "code",
      "source": [
        "# create a scatter plot of the data colored by the cluster labels\n",
        "fig = px.scatter(df, x='ADJOE', y='BARTHAG', color='SEED', hover_data=['TEAM'])\n",
        "fig.show()\n",
        "\n",
        "test = pd.concat((Xtest, ytest, ), axis = 1)\n",
        "print(test)"
      ],
      "metadata": {
        "colab": {
          "base_uri": "https://localhost:8080/",
          "height": 785
        },
        "id": "Ek8K2d0lNg1p",
        "outputId": "71914db4-40f3-44b5-f22a-e732c5a178d6"
      },
      "execution_count": null,
      "outputs": [
        {
          "output_type": "display_data",
          "data": {
            "text/html": [
              "<html>\n",
              "<head><meta charset=\"utf-8\" /></head>\n",
              "<body>\n",
              "    <div>            <script src=\"https://cdnjs.cloudflare.com/ajax/libs/mathjax/2.7.5/MathJax.js?config=TeX-AMS-MML_SVG\"></script><script type=\"text/javascript\">if (window.MathJax && window.MathJax.Hub && window.MathJax.Hub.Config) {window.MathJax.Hub.Config({SVG: {font: \"STIX-Web\"}});}</script>                <script type=\"text/javascript\">window.PlotlyConfig = {MathJaxConfig: 'local'};</script>\n",
              "        <script src=\"https://cdn.plot.ly/plotly-2.18.2.min.js\"></script>                <div id=\"d3700d79-e931-4b12-a891-5f1881e45e47\" class=\"plotly-graph-div\" style=\"height:525px; width:100%;\"></div>            <script type=\"text/javascript\">                                    window.PLOTLYENV=window.PLOTLYENV || {};                                    if (document.getElementById(\"d3700d79-e931-4b12-a891-5f1881e45e47\")) {                    Plotly.newPlot(                        \"d3700d79-e931-4b12-a891-5f1881e45e47\",                        [{\"customdata\":[[\"North Carolina\"],[\"Wisconsin\"],[\"Michigan\"],[\"Texas Tech\"],[\"Gonzaga\"],[\"Kentucky\"],[\"Michigan\"],[\"Duke\"],[\"Virginia\"],[\"North Carolina\"],[\"Villanova\"],[\"Villanova\"],[\"Connecticut\"],[\"Louisville\"],[\"Louisville\"],[\"Notre Dame\"],[\"Notre Dame\"],[\"Virginia\"],[\"Duke\"],[\"Florida St.\"],[\"Duke\"],[\"Purdue\"],[\"Kansas\"],[\"Kansas\"],[\"Kansas St.\"],[\"Texas Tech\"],[\"Xavier\"],[\"Arizona\"],[\"Oregon\"],[\"Florida\"],[\"Kentucky\"],[\"Kentucky\"],[\"Gonzaga\"],[\"Gonzaga\"],[\"Arizona\"],[\"Michigan\"],[\"Michigan St.\"],[\"Dayton\"],[\"Ohio St.\"],[\"Duke\"],[\"Marquette\"],[\"Florida\"],[\"Syracuse\"],[\"Michigan St.\"],[\"Michigan St.\"],[\"Oklahoma\"],[\"Kansas\"],[\"Loyola Chicago\"],[\"Oregon\"],[\"Kentucky\"],[\"South Carolina\"],[\"Auburn\"],[\"Florida\"],[\"Wisconsin\"],[\"Syracuse\"],[\"Wichita St.\"],[\"Dayton\"],[\"Saint Joseph's\"],[\"VCU\"],[\"Rhode Island\"],[\"Rhode Island\"],[\"Virginia\"],[\"Duke\"],[\"Florida St.\"],[\"Louisville\"],[\"Notre Dame\"],[\"Virginia\"],[\"North Carolina\"],[\"UMBC\"],[\"Cincinnati\"],[\"Connecticut\"],[\"Cincinnati\"],[\"Cincinnati\"],[\"Houston\"],[\"UCF\"],[\"Iowa\"],[\"Maryland\"],[\"Ohio St.\"],[\"Iowa\"],[\"Michigan St.\"],[\"Northwestern\"],[\"Michigan St.\"],[\"Ohio St.\"],[\"Iowa\"],[\"Maryland\"],[\"Minnesota\"],[\"Ohio St.\"],[\"Kansas\"],[\"Iowa St.\"],[\"Baylor\"],[\"Kansas\"],[\"Oklahoma\"],[\"Butler\"],[\"Georgetown\"],[\"Villanova\"],[\"Butler\"],[\"Providence\"],[\"Xavier\"],[\"Villanova\"],[\"Butler\"],[\"Seton Hall\"],[\"Xavier\"],[\"Villanova\"],[\"Liberty\"],[\"Hawaii\"],[\"UC Irvine\"],[\"UAB\"],[\"Middle Tennessee\"],[\"Middle Tennessee\"],[\"Marshall\"],[\"Yale\"],[\"Buffalo\"],[\"Buffalo\"],[\"Northern Iowa\"],[\"Northern Iowa\"],[\"Wichita St.\"],[\"Wichita St.\"],[\"San Diego St.\"],[\"Murray St.\"],[\"Oregon\"],[\"Utah\"],[\"USC\"],[\"Washington\"],[\"Georgia St.\"],[\"Arkansas Little Rock\"],[\"Wofford\"],[\"Arkansas\"],[\"Kentucky\"],[\"Arkansas\"],[\"Alabama\"],[\"Auburn\"],[\"Florida\"],[\"Tennessee\"],[\"Florida\"],[\"Stephen F. Austin\"],[\"Saint Mary's\"],[\"Wichita St.\"],[\"Kansas\"],[\"Villanova\"],[\"Creighton\"],[\"Syracuse\"],[\"Saint Louis\"],[\"North Carolina\"],[\"Oregon\"],[\"Texas\"],[\"Gonzaga\"],[\"Memphis\"],[\"Pittsburgh\"],[\"Harvard\"],[\"North Dakota St.\"],[\"Stephen F. Austin\"],[\"Mercer\"],[\"Gonzaga\"],[\"Saint Louis\"],[\"VCU\"],[\"Butler\"],[\"Memphis\"],[\"San Diego St.\"],[\"Illinois\"],[\"Creighton\"],[\"Colorado St.\"],[\"North Carolina\"],[\"Temple\"],[\"Iowa St.\"],[\"Minnesota\"],[\"California\"],[\"Mississippi\"],[\"Harvard\"],[\"Davidson\"],[\"VCU\"],[\"Dayton\"],[\"Dayton\"],[\"VCU\"],[\"Davidson\"],[\"St. Bonaventure\"],[\"Saint Louis\"],[\"VCU\"],[\"Pittsburgh\"],[\"Miami FL\"],[\"Virginia Tech\"],[\"Miami FL\"],[\"North Carolina St.\"],[\"Virginia\"],[\"Virginia Tech\"],[\"Louisville\"],[\"Syracuse\"],[\"Albany\"],[\"Stony Brook\"],[\"Vermont\"],[\"Vermont\"],[\"SMU\"],[\"Cincinnati\"],[\"Temple\"],[\"SMU\"],[\"Wichita St.\"],[\"Cincinnati\"],[\"Florida Gulf Coast\"],[\"Florida Gulf Coast\"],[\"Lipscomb\"],[\"Indiana\"],[\"Purdue\"],[\"Michigan\"],[\"Michigan St.\"],[\"Purdue\"],[\"Maryland\"],[\"Minnesota\"],[\"Wisconsin\"],[\"Baylor\"],[\"Iowa St.\"],[\"Oklahoma St.\"],[\"Texas\"],[\"Baylor\"],[\"Texas\"],[\"Texas Tech\"],[\"West Virginia\"],[\"Kansas St.\"],[\"Oklahoma St.\"],[\"Oklahoma\"],[\"TCU\"],[\"Texas\"],[\"Iowa St.\"],[\"Kansas St.\"],[\"Providence\"],[\"St. John's\"],[\"Seton Hall\"],[\"Creighton\"],[\"Marquette\"],[\"Seton Hall\"],[\"Creighton\"],[\"Providence\"],[\"Marquette\"],[\"Seton Hall\"],[\"Eastern Washington\"],[\"Weber St.\"],[\"North Dakota\"],[\"Montana\"],[\"Montana\"],[\"Coastal Carolina\"],[\"UNC Asheville\"],[\"Winthrop\"],[\"Radford\"],[\"Gardner Webb\"],[\"UC Irvine\"],[\"UC Davis\"],[\"Cal St. Fullerton\"],[\"Northeastern\"],[\"UNC Wilmington\"],[\"UNC Wilmington\"],[\"College of Charleston\"],[\"Northeastern\"],[\"Old Dominion\"],[\"Valparaiso\"],[\"Green Bay\"],[\"Northern Kentucky\"],[\"Wright St.\"],[\"Northern Kentucky\"],[\"Harvard\"],[\"Princeton\"],[\"Penn\"],[\"Yale\"],[\"Iona\"],[\"Iona\"],[\"Iona\"],[\"Iona\"],[\"Buffalo\"],[\"Buffalo\"],[\"Kent St.\"],[\"Hampton\"],[\"Hampton\"],[\"Bradley\"],[\"Wyoming\"],[\"Fresno St.\"],[\"Nevada\"],[\"San Diego St.\"],[\"Nevada\"],[\"Utah St.\"],[\"Robert Morris\"],[\"Mount St. Mary's\"],[\"Fairleigh Dickinson\"],[\"Belmont\"],[\"Austin Peay\"],[\"Jacksonville St.\"],[\"Murray St.\"],[\"Belmont\"],[\"Arizona\"],[\"California\"],[\"Colorado\"],[\"Oregon St.\"],[\"USC\"],[\"Arizona\"],[\"Arizona St.\"],[\"Lafayette\"],[\"Holy Cross\"],[\"Bucknell\"],[\"Bucknell\"],[\"Colgate\"],[\"Troy\"],[\"Georgia St.\"],[\"Georgia St.\"],[\"Wofford\"],[\"Chattanooga\"],[\"East Tennessee St.\"],[\"UNC Greensboro\"],[\"Georgia\"],[\"LSU\"],[\"Mississippi\"],[\"Vanderbilt\"],[\"Arkansas\"],[\"Missouri\"],[\"Mississippi\"],[\"Mississippi St.\"],[\"Stephen F. Austin\"],[\"Stephen F. Austin\"],[\"Abilene Christian\"],[\"North Dakota St.\"],[\"South Dakota St.\"],[\"South Dakota St.\"],[\"South Dakota St.\"],[\"North Dakota St.\"],[\"Texas Southern\"],[\"Texas Southern\"],[\"Texas Southern\"],[\"New Mexico St.\"],[\"Cal St. Bakersfield\"],[\"New Mexico St.\"],[\"New Mexico St.\"],[\"New Mexico St.\"],[\"Saint Mary's\"],[\"Duke\"],[\"Cincinnati\"],[\"Oklahoma\"],[\"VCU\"],[\"Massachusetts\"],[\"Ohio St.\"],[\"New Mexico\"],[\"Colorado\"],[\"Kansas St.\"],[\"Oklahoma St.\"],[\"Arizona St.\"],[\"BYU\"],[\"Saint Joseph's\"],[\"George Washington\"],[\"Nebraska\"],[\"Providence\"],[\"North Carolina St.\"],[\"Delaware\"],[\"Manhattan\"],[\"New Mexico St.\"],[\"Tulsa\"],[\"Louisiana Lafayette\"],[\"North Carolina Central\"],[\"Western Michigan\"],[\"American\"],[\"Eastern Kentucky\"],[\"Milwaukee\"],[\"Wofford\"],[\"Albany\"],[\"Cal Poly\"],[\"Coastal Carolina\"],[\"Weber St.\"],[\"Georgetown\"],[\"New Mexico\"],[\"Kansas St.\"],[\"Wisconsin\"],[\"Oklahoma St.\"],[\"UNLV\"],[\"UCLA\"],[\"Notre Dame\"],[\"Pittsburgh\"],[\"North Carolina St.\"],[\"Villanova\"],[\"Missouri\"],[\"Oklahoma\"],[\"Colorado\"],[\"Cincinnati\"],[\"Belmont\"],[\"Bucknell\"],[\"Saint Mary's\"],[\"Akron\"],[\"South Dakota St.\"],[\"Montana\"],[\"New Mexico St.\"],[\"Northwestern St.\"],[\"Davidson\"],[\"Valparaiso\"],[\"Pacific\"],[\"Iona\"],[\"Albany\"],[\"Western Kentucky\"],[\"North Carolina A&T\"],[\"Southern\"],[\"James Madison\"],[\"Wake Forest\"],[\"Tulsa\"],[\"Temple\"],[\"North Florida\"],[\"Providence\"],[\"St. John's\"],[\"Manhattan\"],[\"North Carolina Central\"],[\"North Carolina Central\"],[\"North Carolina Central\"],[\"Boise St.\"],[\"Fairleigh Dickinson\"],[\"LIU Brooklyn\"],[\"Arizona St.\"],[\"UCLA\"],[\"Vanderbilt\"],[\"New Orleans\"],[\"Southern\"],[\"Prairie View A&M\"],[\"BYU\"],[\"Iowa\"],[\"Xavier\"],[\"Mount St. Mary's\"],[\"Texas Southern\"],[\"Middle Tennessee\"],[\"Boise St.\"],[\"LIU Brooklyn\"],[\"Liberty\"],[\"North Carolina\"],[\"North Carolina St.\"],[\"Duke\"],[\"Miami FL\"],[\"Clemson\"],[\"Syracuse\"],[\"Florida St.\"],[\"North Carolina\"],[\"Virginia Tech\"],[\"Houston\"],[\"Indiana\"],[\"Maryland\"],[\"Wisconsin\"],[\"Michigan\"],[\"Purdue\"],[\"Wisconsin\"],[\"Purdue\"],[\"Michigan\"],[\"Oklahoma\"],[\"West Virginia\"],[\"Iowa St.\"],[\"Baylor\"],[\"West Virginia\"],[\"West Virginia\"],[\"Xavier\"],[\"Butler\"],[\"Wichita St.\"],[\"Nevada\"],[\"UCLA\"],[\"Utah\"],[\"Arizona\"],[\"UCLA\"],[\"Oregon\"],[\"Texas A&M\"],[\"Kentucky\"],[\"Texas A&M\"],[\"LSU\"],[\"Tennessee\"],[\"Gonzaga\"],[\"Gonzaga\"],[\"Virginia\"],[\"Iowa St.\"],[\"Louisville\"],[\"San Diego St.\"],[\"UCLA\"],[\"Baylor\"],[\"Stanford\"],[\"Tennessee\"],[\"Indiana\"],[\"Kansas\"],[\"Miami FL\"],[\"Michigan St.\"],[\"Arizona\"],[\"Oregon\"],[\"La Salle\"],[\"Florida Gulf Coast\"]],\"hovertemplate\":\"ADJOE=%{x}<br>BARTHAG=%{y}<br>TEAM=%{customdata[0]}<br>SEED=%{marker.color}<extra></extra>\",\"legendgroup\":\"\",\"marker\":{\"color\":[1.0,1.0,3.0,3.0,1.0,8.0,4.0,1.0,1.0,1.0,2.0,1.0,7.0,1.0,4.0,3.0,6.0,1.0,2.0,9.0,1.0,3.0,1.0,1.0,9.0,3.0,11.0,2.0,1.0,4.0,2.0,2.0,2.0,1.0,1.0,2.0,4.0,11.0,2.0,2.0,3.0,3.0,10.0,7.0,2.0,2.0,1.0,11.0,3.0,1.0,7.0,5.0,1.0,2.0,4.0,9.0,11.0,8.0,10.0,11.0,7.0,2.0,2.0,3.0,2.0,5.0,5.0,2.0,16.0,8.0,9.0,6.0,2.0,6.0,9.0,7.0,4.0,10.0,7.0,9.0,8.0,3.0,5.0,10.0,6.0,10.0,11.0,2.0,5.0,9.0,4.0,9.0,6.0,4.0,1.0,9.0,9.0,2.0,1.0,10.0,8.0,1.0,6.0,12.0,13.0,13.0,14.0,15.0,12.0,13.0,12.0,13.0,6.0,5.0,11.0,11.0,10.0,8.0,12.0,8.0,3.0,11.0,9.0,14.0,12.0,7.0,5.0,4.0,8.0,9.0,4.0,6.0,3.0,10.0,14.0,7.0,1.0,2.0,2.0,3.0,3.0,5.0,6.0,7.0,7.0,8.0,8.0,9.0,12.0,12.0,12.0,14.0,1.0,4.0,5.0,6.0,6.0,7.0,7.0,7.0,8.0,8.0,9.0,10.0,11.0,12.0,12.0,14.0,10.0,7.0,7.0,7.0,10.0,12.0,11.0,13.0,8.0,10.0,8.0,9.0,6.0,9.0,1.0,8.0,7.0,8.0,14.0,13.0,13.0,13.0,6.0,9.0,10.0,6.0,4.0,7.0,16.0,14.0,15.0,10.0,9.0,11.0,2.0,5.0,6.0,5.0,5.0,3.0,3.0,9.0,11.0,5.0,6.0,8.0,3.0,11.0,10.0,10.0,6.0,10.0,6.0,4.0,6.0,9.0,6.0,6.0,10.0,9.0,8.0,10.0,5.0,10.0,13.0,15.0,15.0,14.0,15.0,16.0,15.0,13.0,16.0,16.0,13.0,16.0,15.0,14.0,13.0,12.0,13.0,13.0,14.0,13.0,14.0,15.0,14.0,14.0,13.0,12.0,16.0,14.0,13.0,14.0,15.0,16.0,12.0,14.0,14.0,16.0,16.0,15.0,12.0,14.0,12.0,11.0,7.0,8.0,16.0,16.0,16.0,15.0,16.0,15.0,12.0,11.0,6.0,4.0,8.0,7.0,8.0,4.0,11.0,16.0,16.0,13.0,14.0,15.0,15.0,15.0,14.0,12.0,12.0,13.0,13.0,10.0,9.0,11.0,9.0,7.0,8.0,8.0,5.0,12.0,14.0,15.0,15.0,12.0,16.0,12.0,16.0,15.0,16.0,16.0,15.0,15.0,14.0,12.0,12.0,11.0,3.0,5.0,5.0,5.0,6.0,6.0,7.0,8.0,9.0,9.0,10.0,10.0,10.0,11.0,11.0,11.0,12.0,13.0,13.0,13.0,13.0,14.0,14.0,14.0,15.0,15.0,15.0,15.0,16.0,16.0,16.0,16.0,2.0,3.0,4.0,5.0,5.0,5.0,6.0,7.0,8.0,8.0,9.0,9.0,10.0,10.0,10.0,11.0,11.0,11.0,12.0,13.0,13.0,13.0,14.0,14.0,14.0,15.0,15.0,15.0,16.0,16.0,16.0,16.0,11.0,11.0,11.0,16.0,11.0,11.0,16.0,16.0,16.0,16.0,11.0,16.0,16.0,11.0,11.0,11.0,16.0,16.0,16.0,11.0,11.0,12.0,16.0,16.0,11.0,13.0,16.0,16.0,4.0,8.0,4.0,3.0,5.0,11.0,4.0,1.0,4.0,3.0,5.0,5.0,7.0,7.0,4.0,8.0,2.0,2.0,3.0,5.0,3.0,3.0,4.0,5.0,6.0,4.0,7.0,7.0,11.0,5.0,2.0,3.0,12.0,3.0,5.0,7.0,3.0,2.0,11.0,4.0,1.0,3.0,4.0,4.0,4.0,6.0,10.0,11.0,1.0,1.0,2.0,3.0,6.0,12.0,13.0,15.0],\"coloraxis\":\"coloraxis\",\"symbol\":\"circle\"},\"mode\":\"markers\",\"name\":\"\",\"orientation\":\"v\",\"showlegend\":false,\"x\":[123.3,129.1,114.4,115.2,117.8,117.2,121.5,125.2,123.0,121.0,123.1,128.4,112.5,115.9,109.4,125.3,118.3,119.9,122.3,113.2,118.9,122.8,120.9,121.5,109.6,112.7,115.6,117.5,118.4,116.6,118.3,117.5,120.2,123.4,116.2,125.0,119.6,113.0,113.6,118.4,113.0,115.7,111.9,116.3,119.9,118.2,122.1,110.5,117.8,120.3,108.7,121.3,115.9,122.7,113.0,110.6,107.0,114.2,112.1,111.1,109.7,112.1,122.1,115.4,117.6,119.3,111.8,120.7,102.1,106.5,110.5,115.2,111.6,114.8,112.7,114.0,110.2,113.9,114.4,111.6,111.2,118.9,116.0,116.1,111.6,110.4,107.8,113.6,120.0,114.6,112.9,110.5,108.5,112.6,121.9,118.2,108.7,117.0,122.2,116.1,117.8,120.9,114.6,109.2,106.9,107.2,102.7,103.9,111.2,108.8,109.1,114.5,113.6,115.4,109.7,110.3,117.2,103.1,110.4,114.3,115.8,113.3,105.6,109.5,107.6,116.4,113.2,123.2,114.9,107.9,114.0,115.2,114.2,110.3,110.3,118.0,116.4,119.2,115.2,125.2,114.2,104.9,113.4,118.1,112.4,113.6,112.6,117.1,111.9,113.9,112.0,109.6,118.9,108.0,113.8,109.2,106.1,106.0,109.8,116.4,116.6,111.6,110.7,117.2,112.6,105.4,110.0,104.9,118.3,108.4,105.5,111.6,108.1,117.0,109.6,101.3,104.6,113.9,110.8,118.4,113.3,115.6,114.6,115.2,112.9,110.5,104.9,104.6,110.0,107.0,111.1,110.0,106.3,120.0,120.9,112.3,102.9,107.8,103.2,119.5,110.5,113.4,122.5,117.2,113.4,109.3,108.2,116.3,116.9,110.7,110.3,119.3,112.2,113.1,114.8,112.2,126.8,114.6,119.5,109.3,118.4,108.0,111.6,110.6,110.8,114.5,121.8,108.9,116.2,108.4,111.7,107.9,110.1,101.7,103.1,106.7,106.2,104.5,101.2,105.3,101.3,106.0,105.1,97.4,101.6,107.0,109.5,117.7,106.8,109.1,99.3,105.0,106.9,105.5,99.4,107.8,102.4,107.6,103.6,110.5,109.1,109.3,108.8,105.2,109.1,105.1,104.1,94.8,98.2,101.1,102.1,106.3,113.7,110.2,112.5,111.3,100.7,98.9,104.5,108.7,103.4,104.4,110.6,114.9,116.1,112.4,107.8,109.9,113.7,117.0,108.7,109.8,96.7,108.3,108.0,109.1,108.8,108.8,106.4,102.3,105.6,107.3,103.4,107.6,107.8,112.2,112.5,116.7,111.0,113.3,116.9,111.0,103.8,100.9,100.8,110.5,108.2,113.2,106.6,101.9,100.6,104.1,103.9,103.4,109.4,106.8,111.8,113.1,125.9,108.7,118.2,108.3,109.0,108.4,112.8,106.9,107.9,115.6,110.3,113.8,113.8,110.2,108.2,114.9,114.8,110.7,106.2,111.6,105.6,110.5,107.9,104.7,101.8,112.1,104.3,99.7,102.8,102.0,98.3,106.0,107.6,107.0,113.4,107.2,107.1,104.7,110.0,112.9,112.8,115.2,105.3,113.3,110.3,104.9,104.5,108.9,104.7,113.9,103.4,109.7,101.6,102.5,104.8,110.6,107.8,104.7,112.8,101.2,100.1,90.6,95.9,98.5,122.4,109.5,109.4,105.2,108.3,107.4,100.2,101.4,95.0,98.0,109.5,103.0,101.9,115.7,113.7,114.5,99.6,98.9,101.7,118.3,121.2,112.0,107.1,106.1,105.1,112.0,108.1,100.1,119.6,114.1,121.2,119.4,112.5,106.0,111.7,120.1,117.8,115.7,121.3,114.9,108.8,123.3,116.6,114.5,123.2,114.6,111.6,110.3,121.4,116.4,115.4,120.9,115.7,117.7,114.3,118.9,111.8,114.9,117.6,122.8,108.1,113.0,115.8,111.2,117.9,122.8,117.4,117.2,114.6,118.6,118.8,109.4,119.0,119.2,111.7,118.1,121.0,111.6,112.4,111.4,114.4,104.8,112.0,103.4],\"xaxis\":\"x\",\"y\":[0.9531,0.9758,0.9375,0.9696,0.9728,0.9062,0.9522,0.9764,0.9736,0.9615,0.9703,0.9725,0.9171,0.9743,0.929,0.9401,0.8269,0.96,0.9592,0.8631,0.9646,0.9539,0.9662,0.9472,0.8584,0.917,0.8713,0.97,0.9163,0.9576,0.9517,0.9568,0.9498,0.9744,0.9636,0.9295,0.9319,0.8188,0.9406,0.9507,0.902,0.9694,0.8857,0.9327,0.9597,0.9326,0.9385,0.8444,0.9321,0.9842,0.9083,0.942,0.9575,0.9441,0.9533,0.9045,0.8059,0.86,0.8811,0.8717,0.7988,0.9648,0.9436,0.9014,0.9469,0.9205,0.9477,0.9242,0.4963,0.838,0.8732,0.9292,0.9417,0.9097,0.898,0.9211,0.8619,0.9104,0.8853,0.8661,0.8564,0.9347,0.9154,0.8385,0.8875,0.8284,0.8329,0.9308,0.9265,0.84,0.9092,0.878,0.9115,0.8945,0.9663,0.8899,0.8193,0.9229,0.9611,0.9068,0.8902,0.9211,0.8448,0.7428,0.7945,0.7458,0.5721,0.6224,0.8339,0.6633,0.8209,0.7761,0.8819,0.9228,0.8109,0.9321,0.9403,0.8691,0.7852,0.8379,0.8807,0.7966,0.8097,0.7802,0.7732,0.8892,0.8696,0.9517,0.8339,0.8074,0.8672,0.9132,0.9225,0.8947,0.8235,0.9334,0.9295,0.927,0.926,0.9144,0.9156,0.8477,0.8883,0.872,0.8507,0.9064,0.8479,0.9261,0.8641,0.7613,0.7527,0.6993,0.9599,0.9181,0.9195,0.8624,0.8672,0.8752,0.8749,0.9117,0.8759,0.8902,0.822,0.8828,0.905,0.8211,0.834,0.6362,0.8435,0.8373,0.8184,0.8333,0.7988,0.823,0.7485,0.6599,0.8838,0.8659,0.8804,0.8401,0.8623,0.821,0.9612,0.8579,0.9023,0.8622,0.5749,0.648,0.7864,0.7324,0.8635,0.866,0.7318,0.9426,0.8671,0.8871,0.5136,0.6169,0.5375,0.8473,0.8654,0.82,0.9428,0.9316,0.8448,0.8665,0.9089,0.9316,0.9103,0.8469,0.9048,0.8924,0.8627,0.8227,0.9396,0.8818,0.9221,0.835,0.8804,0.8547,0.912,0.9151,0.8821,0.8569,0.9014,0.8931,0.8881,0.8178,0.8836,0.8027,0.8524,0.7749,0.5648,0.5599,0.5112,0.7184,0.5812,0.5417,0.5487,0.6106,0.4559,0.4852,0.7202,0.4033,0.476,0.6586,0.7186,0.7881,0.5685,0.6712,0.6339,0.7706,0.5729,0.537,0.5638,0.6719,0.7057,0.7989,0.6644,0.7034,0.6822,0.5879,0.5333,0.4044,0.7742,0.5746,0.5322,0.2939,0.2615,0.517,0.6121,0.6646,0.8021,0.8486,0.8618,0.8329,0.4286,0.4155,0.3494,0.5497,0.3501,0.5054,0.7449,0.8138,0.9022,0.9006,0.8072,0.788,0.8352,0.8528,0.775,0.3839,0.2398,0.7352,0.676,0.5961,0.5596,0.6894,0.6418,0.6547,0.6286,0.7595,0.7207,0.8482,0.8477,0.8037,0.8898,0.8483,0.842,0.8433,0.898,0.7919,0.6832,0.5064,0.5035,0.737,0.4612,0.7989,0.4369,0.3371,0.3437,0.293,0.6613,0.7106,0.6783,0.7927,0.8155,0.8637,0.9432,0.8783,0.8793,0.8955,0.7952,0.9107,0.8693,0.774,0.8473,0.9067,0.8252,0.8078,0.8546,0.8151,0.8172,0.8249,0.8066,0.6237,0.7519,0.7385,0.7537,0.6557,0.7018,0.5605,0.6178,0.6177,0.5123,0.4275,0.49,0.4356,0.3946,0.4831,0.9381,0.8641,0.8896,0.9406,0.8983,0.8749,0.8475,0.8748,0.9217,0.865,0.8507,0.8815,0.8391,0.8513,0.873,0.8064,0.7936,0.891,0.7402,0.6573,0.4929,0.6992,0.573,0.7959,0.7514,0.5991,0.6956,0.5722,0.4895,0.3459,0.475,0.4736,0.8831,0.7486,0.7866,0.5063,0.8278,0.7067,0.5238,0.5043,0.1522,0.2414,0.821,0.209,0.2937,0.8089,0.8029,0.9148,0.4538,0.3065,0.3911,0.8699,0.9089,0.7965,0.3986,0.3293,0.8396,0.8332,0.4195,0.2591,0.9507,0.8684,0.9122,0.9203,0.8984,0.8344,0.9146,0.9582,0.9357,0.9439,0.9168,0.8839,0.8509,0.9366,0.9297,0.9255,0.9484,0.9665,0.9349,0.8733,0.9162,0.9226,0.9498,0.9353,0.9049,0.9038,0.9277,0.8462,0.8425,0.9513,0.9157,0.9175,0.8687,0.9126,0.9,0.864,0.9081,0.9488,0.9238,0.9192,0.9449,0.8903,0.971,0.896,0.9167,0.8885,0.8436,0.9374,0.9692,0.9514,0.9207,0.9392,0.9229,0.8728,0.8516,0.6952],\"yaxis\":\"y\",\"type\":\"scatter\"}],                        {\"template\":{\"data\":{\"histogram2dcontour\":[{\"type\":\"histogram2dcontour\",\"colorbar\":{\"outlinewidth\":0,\"ticks\":\"\"},\"colorscale\":[[0.0,\"#0d0887\"],[0.1111111111111111,\"#46039f\"],[0.2222222222222222,\"#7201a8\"],[0.3333333333333333,\"#9c179e\"],[0.4444444444444444,\"#bd3786\"],[0.5555555555555556,\"#d8576b\"],[0.6666666666666666,\"#ed7953\"],[0.7777777777777778,\"#fb9f3a\"],[0.8888888888888888,\"#fdca26\"],[1.0,\"#f0f921\"]]}],\"choropleth\":[{\"type\":\"choropleth\",\"colorbar\":{\"outlinewidth\":0,\"ticks\":\"\"}}],\"histogram2d\":[{\"type\":\"histogram2d\",\"colorbar\":{\"outlinewidth\":0,\"ticks\":\"\"},\"colorscale\":[[0.0,\"#0d0887\"],[0.1111111111111111,\"#46039f\"],[0.2222222222222222,\"#7201a8\"],[0.3333333333333333,\"#9c179e\"],[0.4444444444444444,\"#bd3786\"],[0.5555555555555556,\"#d8576b\"],[0.6666666666666666,\"#ed7953\"],[0.7777777777777778,\"#fb9f3a\"],[0.8888888888888888,\"#fdca26\"],[1.0,\"#f0f921\"]]}],\"heatmap\":[{\"type\":\"heatmap\",\"colorbar\":{\"outlinewidth\":0,\"ticks\":\"\"},\"colorscale\":[[0.0,\"#0d0887\"],[0.1111111111111111,\"#46039f\"],[0.2222222222222222,\"#7201a8\"],[0.3333333333333333,\"#9c179e\"],[0.4444444444444444,\"#bd3786\"],[0.5555555555555556,\"#d8576b\"],[0.6666666666666666,\"#ed7953\"],[0.7777777777777778,\"#fb9f3a\"],[0.8888888888888888,\"#fdca26\"],[1.0,\"#f0f921\"]]}],\"heatmapgl\":[{\"type\":\"heatmapgl\",\"colorbar\":{\"outlinewidth\":0,\"ticks\":\"\"},\"colorscale\":[[0.0,\"#0d0887\"],[0.1111111111111111,\"#46039f\"],[0.2222222222222222,\"#7201a8\"],[0.3333333333333333,\"#9c179e\"],[0.4444444444444444,\"#bd3786\"],[0.5555555555555556,\"#d8576b\"],[0.6666666666666666,\"#ed7953\"],[0.7777777777777778,\"#fb9f3a\"],[0.8888888888888888,\"#fdca26\"],[1.0,\"#f0f921\"]]}],\"contourcarpet\":[{\"type\":\"contourcarpet\",\"colorbar\":{\"outlinewidth\":0,\"ticks\":\"\"}}],\"contour\":[{\"type\":\"contour\",\"colorbar\":{\"outlinewidth\":0,\"ticks\":\"\"},\"colorscale\":[[0.0,\"#0d0887\"],[0.1111111111111111,\"#46039f\"],[0.2222222222222222,\"#7201a8\"],[0.3333333333333333,\"#9c179e\"],[0.4444444444444444,\"#bd3786\"],[0.5555555555555556,\"#d8576b\"],[0.6666666666666666,\"#ed7953\"],[0.7777777777777778,\"#fb9f3a\"],[0.8888888888888888,\"#fdca26\"],[1.0,\"#f0f921\"]]}],\"surface\":[{\"type\":\"surface\",\"colorbar\":{\"outlinewidth\":0,\"ticks\":\"\"},\"colorscale\":[[0.0,\"#0d0887\"],[0.1111111111111111,\"#46039f\"],[0.2222222222222222,\"#7201a8\"],[0.3333333333333333,\"#9c179e\"],[0.4444444444444444,\"#bd3786\"],[0.5555555555555556,\"#d8576b\"],[0.6666666666666666,\"#ed7953\"],[0.7777777777777778,\"#fb9f3a\"],[0.8888888888888888,\"#fdca26\"],[1.0,\"#f0f921\"]]}],\"mesh3d\":[{\"type\":\"mesh3d\",\"colorbar\":{\"outlinewidth\":0,\"ticks\":\"\"}}],\"scatter\":[{\"fillpattern\":{\"fillmode\":\"overlay\",\"size\":10,\"solidity\":0.2},\"type\":\"scatter\"}],\"parcoords\":[{\"type\":\"parcoords\",\"line\":{\"colorbar\":{\"outlinewidth\":0,\"ticks\":\"\"}}}],\"scatterpolargl\":[{\"type\":\"scatterpolargl\",\"marker\":{\"colorbar\":{\"outlinewidth\":0,\"ticks\":\"\"}}}],\"bar\":[{\"error_x\":{\"color\":\"#2a3f5f\"},\"error_y\":{\"color\":\"#2a3f5f\"},\"marker\":{\"line\":{\"color\":\"#E5ECF6\",\"width\":0.5},\"pattern\":{\"fillmode\":\"overlay\",\"size\":10,\"solidity\":0.2}},\"type\":\"bar\"}],\"scattergeo\":[{\"type\":\"scattergeo\",\"marker\":{\"colorbar\":{\"outlinewidth\":0,\"ticks\":\"\"}}}],\"scatterpolar\":[{\"type\":\"scatterpolar\",\"marker\":{\"colorbar\":{\"outlinewidth\":0,\"ticks\":\"\"}}}],\"histogram\":[{\"marker\":{\"pattern\":{\"fillmode\":\"overlay\",\"size\":10,\"solidity\":0.2}},\"type\":\"histogram\"}],\"scattergl\":[{\"type\":\"scattergl\",\"marker\":{\"colorbar\":{\"outlinewidth\":0,\"ticks\":\"\"}}}],\"scatter3d\":[{\"type\":\"scatter3d\",\"line\":{\"colorbar\":{\"outlinewidth\":0,\"ticks\":\"\"}},\"marker\":{\"colorbar\":{\"outlinewidth\":0,\"ticks\":\"\"}}}],\"scattermapbox\":[{\"type\":\"scattermapbox\",\"marker\":{\"colorbar\":{\"outlinewidth\":0,\"ticks\":\"\"}}}],\"scatterternary\":[{\"type\":\"scatterternary\",\"marker\":{\"colorbar\":{\"outlinewidth\":0,\"ticks\":\"\"}}}],\"scattercarpet\":[{\"type\":\"scattercarpet\",\"marker\":{\"colorbar\":{\"outlinewidth\":0,\"ticks\":\"\"}}}],\"carpet\":[{\"aaxis\":{\"endlinecolor\":\"#2a3f5f\",\"gridcolor\":\"white\",\"linecolor\":\"white\",\"minorgridcolor\":\"white\",\"startlinecolor\":\"#2a3f5f\"},\"baxis\":{\"endlinecolor\":\"#2a3f5f\",\"gridcolor\":\"white\",\"linecolor\":\"white\",\"minorgridcolor\":\"white\",\"startlinecolor\":\"#2a3f5f\"},\"type\":\"carpet\"}],\"table\":[{\"cells\":{\"fill\":{\"color\":\"#EBF0F8\"},\"line\":{\"color\":\"white\"}},\"header\":{\"fill\":{\"color\":\"#C8D4E3\"},\"line\":{\"color\":\"white\"}},\"type\":\"table\"}],\"barpolar\":[{\"marker\":{\"line\":{\"color\":\"#E5ECF6\",\"width\":0.5},\"pattern\":{\"fillmode\":\"overlay\",\"size\":10,\"solidity\":0.2}},\"type\":\"barpolar\"}],\"pie\":[{\"automargin\":true,\"type\":\"pie\"}]},\"layout\":{\"autotypenumbers\":\"strict\",\"colorway\":[\"#636efa\",\"#EF553B\",\"#00cc96\",\"#ab63fa\",\"#FFA15A\",\"#19d3f3\",\"#FF6692\",\"#B6E880\",\"#FF97FF\",\"#FECB52\"],\"font\":{\"color\":\"#2a3f5f\"},\"hovermode\":\"closest\",\"hoverlabel\":{\"align\":\"left\"},\"paper_bgcolor\":\"white\",\"plot_bgcolor\":\"#E5ECF6\",\"polar\":{\"bgcolor\":\"#E5ECF6\",\"angularaxis\":{\"gridcolor\":\"white\",\"linecolor\":\"white\",\"ticks\":\"\"},\"radialaxis\":{\"gridcolor\":\"white\",\"linecolor\":\"white\",\"ticks\":\"\"}},\"ternary\":{\"bgcolor\":\"#E5ECF6\",\"aaxis\":{\"gridcolor\":\"white\",\"linecolor\":\"white\",\"ticks\":\"\"},\"baxis\":{\"gridcolor\":\"white\",\"linecolor\":\"white\",\"ticks\":\"\"},\"caxis\":{\"gridcolor\":\"white\",\"linecolor\":\"white\",\"ticks\":\"\"}},\"coloraxis\":{\"colorbar\":{\"outlinewidth\":0,\"ticks\":\"\"}},\"colorscale\":{\"sequential\":[[0.0,\"#0d0887\"],[0.1111111111111111,\"#46039f\"],[0.2222222222222222,\"#7201a8\"],[0.3333333333333333,\"#9c179e\"],[0.4444444444444444,\"#bd3786\"],[0.5555555555555556,\"#d8576b\"],[0.6666666666666666,\"#ed7953\"],[0.7777777777777778,\"#fb9f3a\"],[0.8888888888888888,\"#fdca26\"],[1.0,\"#f0f921\"]],\"sequentialminus\":[[0.0,\"#0d0887\"],[0.1111111111111111,\"#46039f\"],[0.2222222222222222,\"#7201a8\"],[0.3333333333333333,\"#9c179e\"],[0.4444444444444444,\"#bd3786\"],[0.5555555555555556,\"#d8576b\"],[0.6666666666666666,\"#ed7953\"],[0.7777777777777778,\"#fb9f3a\"],[0.8888888888888888,\"#fdca26\"],[1.0,\"#f0f921\"]],\"diverging\":[[0,\"#8e0152\"],[0.1,\"#c51b7d\"],[0.2,\"#de77ae\"],[0.3,\"#f1b6da\"],[0.4,\"#fde0ef\"],[0.5,\"#f7f7f7\"],[0.6,\"#e6f5d0\"],[0.7,\"#b8e186\"],[0.8,\"#7fbc41\"],[0.9,\"#4d9221\"],[1,\"#276419\"]]},\"xaxis\":{\"gridcolor\":\"white\",\"linecolor\":\"white\",\"ticks\":\"\",\"title\":{\"standoff\":15},\"zerolinecolor\":\"white\",\"automargin\":true,\"zerolinewidth\":2},\"yaxis\":{\"gridcolor\":\"white\",\"linecolor\":\"white\",\"ticks\":\"\",\"title\":{\"standoff\":15},\"zerolinecolor\":\"white\",\"automargin\":true,\"zerolinewidth\":2},\"scene\":{\"xaxis\":{\"backgroundcolor\":\"#E5ECF6\",\"gridcolor\":\"white\",\"linecolor\":\"white\",\"showbackground\":true,\"ticks\":\"\",\"zerolinecolor\":\"white\",\"gridwidth\":2},\"yaxis\":{\"backgroundcolor\":\"#E5ECF6\",\"gridcolor\":\"white\",\"linecolor\":\"white\",\"showbackground\":true,\"ticks\":\"\",\"zerolinecolor\":\"white\",\"gridwidth\":2},\"zaxis\":{\"backgroundcolor\":\"#E5ECF6\",\"gridcolor\":\"white\",\"linecolor\":\"white\",\"showbackground\":true,\"ticks\":\"\",\"zerolinecolor\":\"white\",\"gridwidth\":2}},\"shapedefaults\":{\"line\":{\"color\":\"#2a3f5f\"}},\"annotationdefaults\":{\"arrowcolor\":\"#2a3f5f\",\"arrowhead\":0,\"arrowwidth\":1},\"geo\":{\"bgcolor\":\"white\",\"landcolor\":\"#E5ECF6\",\"subunitcolor\":\"white\",\"showland\":true,\"showlakes\":true,\"lakecolor\":\"white\"},\"title\":{\"x\":0.05},\"mapbox\":{\"style\":\"light\"}}},\"xaxis\":{\"anchor\":\"y\",\"domain\":[0.0,1.0],\"title\":{\"text\":\"ADJOE\"}},\"yaxis\":{\"anchor\":\"x\",\"domain\":[0.0,1.0],\"title\":{\"text\":\"BARTHAG\"}},\"coloraxis\":{\"colorbar\":{\"title\":{\"text\":\"SEED\"}},\"colorscale\":[[0.0,\"#0d0887\"],[0.1111111111111111,\"#46039f\"],[0.2222222222222222,\"#7201a8\"],[0.3333333333333333,\"#9c179e\"],[0.4444444444444444,\"#bd3786\"],[0.5555555555555556,\"#d8576b\"],[0.6666666666666666,\"#ed7953\"],[0.7777777777777778,\"#fb9f3a\"],[0.8888888888888888,\"#fdca26\"],[1.0,\"#f0f921\"]]},\"legend\":{\"tracegroupgap\":0},\"margin\":{\"t\":60}},                        {\"responsive\": true}                    ).then(function(){\n",
              "                            \n",
              "var gd = document.getElementById('d3700d79-e931-4b12-a891-5f1881e45e47');\n",
              "var x = new MutationObserver(function (mutations, observer) {{\n",
              "        var display = window.getComputedStyle(gd).display;\n",
              "        if (!display || display === 'none') {{\n",
              "            console.log([gd, 'removed!']);\n",
              "            Plotly.purge(gd);\n",
              "            observer.disconnect();\n",
              "        }}\n",
              "}});\n",
              "\n",
              "// Listen for the removal of the full notebook cells\n",
              "var notebookContainer = gd.closest('#notebook-container');\n",
              "if (notebookContainer) {{\n",
              "    x.observe(notebookContainer, {childList: true});\n",
              "}}\n",
              "\n",
              "// Listen for the clearing of the current output cell\n",
              "var outputEl = gd.closest('.output');\n",
              "if (outputEl) {{\n",
              "    x.observe(outputEl, {childList: true});\n",
              "}}\n",
              "\n",
              "                        })                };                            </script>        </div>\n",
              "</body>\n",
              "</html>"
            ]
          },
          "metadata": {}
        },
        {
          "output_type": "stream",
          "name": "stdout",
          "text": [
            "      ADJOE  BARTHAG  SEED\n",
            "52    115.9   0.9575   1.0\n",
            "2321  108.2   0.8172  11.0\n",
            "2286  116.7   0.8483   7.0\n",
            "2443  119.0   0.9167   4.0\n",
            "2242  105.2   0.4044  16.0\n",
            "...     ...      ...   ...\n",
            "2141  110.7   0.8220   9.0\n",
            "2275  108.8   0.5596  15.0\n",
            "33    123.4   0.9744   1.0\n",
            "2092  115.4   0.9228   5.0\n",
            "2041  122.1   0.9436   2.0\n",
            "\n",
            "[119 rows x 3 columns]\n"
          ]
        }
      ]
    }
  ]
}